{
 "cells": [
  {
   "cell_type": "markdown",
   "metadata": {},
   "source": [
    "# Notebook Imports"
   ]
  },
  {
   "cell_type": "code",
   "execution_count": 1,
   "metadata": {},
   "outputs": [],
   "source": [
    "import numpy as np \n",
    "import pandas as pd\n",
    "import matplotlib.pyplot as plt\n",
    "from scipy import stats\n",
    "from math import factorial as f\n",
    "import seaborn as sns\n",
    "\n",
    "%matplotlib inline"
   ]
  },
  {
   "cell_type": "markdown",
   "metadata": {},
   "source": [
    "# Problem Statement 1:\n",
    "    Blood glucose levels for obese patients have a mean of 100 with a standard deviation of 15. A researcher thinks that a diet high in raw cornstarch will have a positive effect on blood glucose levels. A sample of 36 patients who have tried the raw cornstarch diet have a mean glucose level of 108. Test the hypothesis that the raw cornstarch had an effect or not."
   ]
  },
  {
   "cell_type": "code",
   "execution_count": 2,
   "metadata": {},
   "outputs": [
    {
     "name": "stdout",
     "output_type": "stream",
     "text": [
      "Z value for test sample = 3.2\n",
      "Z value for given Significant Limit = 1.64\n"
     ]
    }
   ],
   "source": [
    "# H0 : No effect -> glucose = 100\n",
    "# H1 : Positive effect -> glucose > 100\n",
    "mu = 100\n",
    "sigma = 15\n",
    "\n",
    "n = 36\n",
    "s_mean = 108\n",
    "\n",
    "# Standard Error\n",
    "se = sigma / (n**0.5)\n",
    "\n",
    "# Z value (sample size is large)\n",
    "z_test = (s_mean - mu) / se\n",
    "print(\"Z value for test sample =\", round(z_test, 2))\n",
    "\n",
    "# Z value for SL = 5% -> alpha = 0.05\n",
    "z = stats.norm.ppf(0.95)\n",
    "print(\"Z value for given Significant Limit =\", round(z, 2))"
   ]
  },
  {
   "cell_type": "markdown",
   "metadata": {},
   "source": [
    "### Z(test) > Z(alpha=0.05) -> Reject Null hypothesis\n",
    "### Diet high in raw cornstarch will have a positive effect on blood glucose levels."
   ]
  },
  {
   "cell_type": "code",
   "execution_count": 3,
   "metadata": {},
   "outputs": [],
   "source": [
    "#"
   ]
  },
  {
   "cell_type": "markdown",
   "metadata": {},
   "source": [
    "# Problem Statement 2:\n",
    "    In one state, 52% of the voters are Republicans, and 48% are Democrats. In a second state, 47% of the voters are Republicans, and 53% are Democrats. Suppose a simple random sample of 100 voters are surveyed from each state.\n",
    "    What is the probability that the survey will show a greater percentage of Republican voters in the second state than in the first state?"
   ]
  },
  {
   "cell_type": "code",
   "execution_count": 4,
   "metadata": {},
   "outputs": [
    {
     "name": "stdout",
     "output_type": "stream",
     "text": [
      "The probability that the survey will show a greater percentage of Republican voters in the second state than in the first state = 0.24\n"
     ]
    }
   ],
   "source": [
    "n1 = 100\n",
    "p1 = 0.52\n",
    "\n",
    "n2 = 100\n",
    "p2 = 0.47\n",
    "\n",
    "se = ((p1*(1-p1) / n1) + (p2*(1-p2) / n2))**0.5\n",
    "\n",
    "z = (p1 - p2) / se\n",
    "prob = stats.norm.cdf(z) if z<0 else 1-stats.norm.cdf(z)\n",
    "print(\"The probability that the survey will show a greater percentage of Republican voters \\\n",
    "in the second state than in the first state =\", round(prob, 2))"
   ]
  },
  {
   "cell_type": "code",
   "execution_count": 5,
   "metadata": {},
   "outputs": [],
   "source": [
    "#"
   ]
  },
  {
   "cell_type": "markdown",
   "metadata": {},
   "source": [
    "# Problem Statement 3:\n",
    "    You take the SAT and score 1100. The mean score for the SAT is 1026 and the standard deviation is 209. How well did you score on the test compared to the average test taker?"
   ]
  },
  {
   "cell_type": "code",
   "execution_count": 6,
   "metadata": {},
   "outputs": [
    {
     "name": "stdout",
     "output_type": "stream",
     "text": [
      "Proportions of test takers scored more than me = 0.36\n"
     ]
    }
   ],
   "source": [
    "mu = 1026\n",
    "x = 1100\n",
    "sigma = 209\n",
    "\n",
    "z = (x-mu) / sigma\n",
    "prob = stats.norm.cdf(z) if z<0 else 1-stats.norm.cdf(z)\n",
    "print('Proportions of test takers scored more than me =', round(prob, 2))"
   ]
  },
  {
   "cell_type": "code",
   "execution_count": 7,
   "metadata": {},
   "outputs": [],
   "source": [
    "## I performed better than 64% of test takers."
   ]
  }
 ],
 "metadata": {
  "kernelspec": {
   "display_name": "Python 3",
   "language": "python",
   "name": "python3"
  },
  "language_info": {
   "codemirror_mode": {
    "name": "ipython",
    "version": 3
   },
   "file_extension": ".py",
   "mimetype": "text/x-python",
   "name": "python",
   "nbconvert_exporter": "python",
   "pygments_lexer": "ipython3",
   "version": "3.7.7"
  }
 },
 "nbformat": 4,
 "nbformat_minor": 4
}
