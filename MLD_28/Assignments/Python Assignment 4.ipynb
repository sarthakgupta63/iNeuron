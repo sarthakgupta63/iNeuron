{
 "cells": [
  {
   "cell_type": "markdown",
   "metadata": {},
   "source": [
    "## 1.1 \n",
    "    Write a Python Program(with class concepts) to find the area of the triangle using the below formula.\n",
    "    area = (s*(s-a)*(s-b)*(s-c)) ** 0.5\n",
    "    Function to take the length of the sides of triangle from user should be defined in the parent\n",
    "    class and function to calculate the area should be defined in subclass."
   ]
  },
  {
   "cell_type": "code",
   "execution_count": 1,
   "metadata": {},
   "outputs": [
    {
     "data": {
      "text/plain": [
       "6.0"
      ]
     },
     "execution_count": 1,
     "metadata": {},
     "output_type": "execute_result"
    }
   ],
   "source": [
    "class Shape:\n",
    "    def __init__(self, a, b, c):\n",
    "        self.a = a\n",
    "        self.b = b\n",
    "        self.c = c\n",
    "            \n",
    "class Triangle(Shape):\n",
    "    def __init__(self, *args):\n",
    "        super(Triangle, self).__init__(*args)\n",
    "    \n",
    "    def area(self):\n",
    "        self.s = (self.a + self.b + self.c) / 2\n",
    "        self.area = (self.s * (self.s - self.a) * (self.s - self.b) * (self.s - self.c)) ** 0.5\n",
    "        return round(self.area, 2)\n",
    "    \n",
    "\n",
    "t = Triangle(5,3,4)\n",
    "t.area()"
   ]
  },
  {
   "cell_type": "markdown",
   "metadata": {},
   "source": [
    "## 1.2 \n",
    "    Write a function filter_long_words() that takes a list of words and an integer n and returns the list of words that are longer than n."
   ]
  },
  {
   "cell_type": "code",
   "execution_count": 2,
   "metadata": {},
   "outputs": [
    {
     "data": {
      "text/plain": [
       "['myself', 'your', 'yourself']"
      ]
     },
     "execution_count": 2,
     "metadata": {},
     "output_type": "execute_result"
    }
   ],
   "source": [
    "def filter_long_words(lst_words, n):\n",
    "    for word in lst_words:\n",
    "        if len(word) <= n:\n",
    "            lst_words.remove(word)\n",
    "    return lst_words\n",
    "\n",
    "filter_long_words(['me', 'myself', 'you', 'your', 'yourself'], 3)"
   ]
  },
  {
   "cell_type": "code",
   "execution_count": 3,
   "metadata": {},
   "outputs": [
    {
     "name": "stdout",
     "output_type": "stream",
     "text": [
      "['myself', 'you', 'your', 'yourself']\n"
     ]
    }
   ],
   "source": [
    "lst = ['me', 'myself', 'you', 'your', 'yourself']\n",
    "n = 2\n",
    "a = [word for word in lst if len(word) > n]\n",
    "print(a)"
   ]
  },
  {
   "cell_type": "markdown",
   "metadata": {},
   "source": [
    "## 2.1 \n",
    "    Write a Python program using function concept that maps list of words into a list of integers representing the lengths of the corresponding words.\n",
    "    Hint: If a list [ ab,cde,erty] is passed on to the python function output should come as [2,3,4]\n",
    "    Here 2,3 and 4 are the lengths of the words in the list."
   ]
  },
  {
   "cell_type": "code",
   "execution_count": 4,
   "metadata": {},
   "outputs": [
    {
     "data": {
      "text/plain": [
       "[4, 3, 6, 3]"
      ]
     },
     "execution_count": 4,
     "metadata": {},
     "output_type": "execute_result"
    }
   ],
   "source": [
    "def func(lst):\n",
    "    return list(map(lambda x: len(x), lst))\n",
    "\n",
    "lst = ['abcd', 'ijk', 'qwerty', 'oop']\n",
    "func(lst)"
   ]
  },
  {
   "cell_type": "markdown",
   "metadata": {},
   "source": [
    "## 2.2 \n",
    "    Write a Python function which takes a character (i.e. a string of length 1) and returns True if it is a vowel, False otherwise."
   ]
  },
  {
   "cell_type": "code",
   "execution_count": 5,
   "metadata": {},
   "outputs": [
    {
     "name": "stdout",
     "output_type": "stream",
     "text": [
      "False\n",
      "True\n",
      "False\n",
      "True\n"
     ]
    }
   ],
   "source": [
    "def is_vowel(char):\n",
    "    if char in ['a', 'e', 'i', 'o', 'u']:\n",
    "        return True\n",
    "    else:\n",
    "        return False\n",
    "\n",
    "print(is_vowel('w'))\n",
    "print(is_vowel('e'))\n",
    "print(is_vowel('h'))\n",
    "print(is_vowel('a'))"
   ]
  },
  {
   "cell_type": "code",
   "execution_count": null,
   "metadata": {},
   "outputs": [],
   "source": []
  }
 ],
 "metadata": {
  "kernelspec": {
   "display_name": "Python 3",
   "language": "python",
   "name": "python3"
  },
  "language_info": {
   "codemirror_mode": {
    "name": "ipython",
    "version": 3
   },
   "file_extension": ".py",
   "mimetype": "text/x-python",
   "name": "python",
   "nbconvert_exporter": "python",
   "pygments_lexer": "ipython3",
   "version": "3.7.6"
  }
 },
 "nbformat": 4,
 "nbformat_minor": 2
}
