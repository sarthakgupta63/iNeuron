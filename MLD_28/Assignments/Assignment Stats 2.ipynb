{
 "cells": [
  {
   "cell_type": "markdown",
   "metadata": {},
   "source": [
    "# Notebook Imports"
   ]
  },
  {
   "cell_type": "code",
   "execution_count": 1,
   "metadata": {},
   "outputs": [],
   "source": [
    "import numpy as np \n",
    "import pandas as pd\n",
    "import matplotlib.pyplot as plt\n",
    "from scipy import stats\n",
    "from math import factorial as f\n",
    "import seaborn as sns\n",
    "\n",
    "%matplotlib inline"
   ]
  },
  {
   "cell_type": "markdown",
   "metadata": {},
   "source": [
    "# Problem Statement 1:\n",
    "    In each of the following situations, state whether it is a correctly stated hypothesis testing problem and why?\n",
    "    1. 𝐻0: 𝜇 = 25, 𝐻1: 𝜇 ≠ 25 \n",
    "    2. 𝐻0: 𝜎 > 10, 𝐻1: 𝜎 = 10 \n",
    "    3. 𝐻0: 𝑥 = 50, 𝐻1: 𝑥 ≠ 50 \n",
    "    4. 𝐻0: 𝑝 = 0.1, 𝐻1: 𝑝 = 0.5 \n",
    "    5. 𝐻0: 𝑠 = 30, 𝐻1: 𝑠 > 30"
   ]
  },
  {
   "cell_type": "markdown",
   "metadata": {},
   "source": [
    "## Ans:\n",
    "    1. 𝐻0: 𝜇 = 25, 𝐻1: 𝜇 ≠ 25 -> is correct as both H0 & H1 covers all possible values\n",
    "    2. 𝐻0: 𝜎 > 10, 𝐻1: 𝜎 = 10 -> is incorrectly stated as values < 10 are not considered\n",
    "    3. 𝐻0: 𝑥 = 50, 𝐻1: 𝑥 ≠ 50 -> is correctly stated - H0 & H1 covers all possible values\n",
    "    4. 𝐻0: 𝑝 = 0.1, 𝐻1: 𝑝 = 0.5 -> is incorrect because hypotheses tests only at 2 values\n",
    "    5. 𝐻0: 𝑠 = 30, 𝐻1: 𝑠 > 30 -> Incorrect - ignores < 30 values"
   ]
  },
  {
   "cell_type": "markdown",
   "metadata": {},
   "source": [
    "# Problem Statement 2:\n",
    "    The college bookstore tells prospective students that the average cost of its textbooks is Rs. 52 with a standard deviation of Rs. 4.50. \n",
    "    A group of smart statistics students thinks that the average cost is higher. \n",
    "    To test the bookstore’s claim against their alternative, the students will select a random sample of size 100. \n",
    "    Assume that the mean from their random sample is Rs. 52.80. \n",
    "    Perform a hypothesis test at the 5% level of significance and state your decision."
   ]
  },
  {
   "cell_type": "code",
   "execution_count": 2,
   "metadata": {},
   "outputs": [
    {
     "name": "stdout",
     "output_type": "stream",
     "text": [
      "Z value for test sample = 1.78\n",
      "Z value for given Significant Limit = -1.64\n"
     ]
    }
   ],
   "source": [
    "# H0: Bookstore's claim is True\n",
    "\n",
    "mu = 52\n",
    "sigma = 4.5\n",
    "\n",
    "s_mean = 52.8\n",
    "n = 100\n",
    "\n",
    "# Standard Error\n",
    "se = sigma / (n**0.5)\n",
    "\n",
    "# Z value (sample size is large)\n",
    "z_test = (s_mean - mu) / se\n",
    "print(\"Z value for test sample =\", round(z_test, 2))\n",
    "\n",
    "# Z value for SL -> alpha = 0.05\n",
    "z = stats.norm.ppf(0.05)\n",
    "print(\"Z value for given Significant Limit =\", round(z, 2))"
   ]
  },
  {
   "cell_type": "markdown",
   "metadata": {},
   "source": [
    "- As the Z value for test is greater than that of SL. We would not reject the Null Hypotheis, i.e, Bookstore's Claim is True."
   ]
  },
  {
   "cell_type": "code",
   "execution_count": 3,
   "metadata": {},
   "outputs": [],
   "source": [
    "#"
   ]
  },
  {
   "cell_type": "markdown",
   "metadata": {},
   "source": [
    "# Problem Statement 3:\n",
    "    A certain chemical pollutant in the Genesee River has been constant for several years with mean μ = 34 ppm (parts per million) and standard deviation σ = 8 ppm. \n",
    "    A group of factory representatives whose companies discharge liquids into the river is now claiming that they have lowered the average with improved filtration devices. \n",
    "    A group of environmentalists will test to see if this is true at the 1% level of significance. Assume \\ that their sample of size 50 gives a mean of 32.5 ppm. \n",
    "    Perform a hypothesis test at the 1% level of significance and state your decision."
   ]
  },
  {
   "cell_type": "code",
   "execution_count": 4,
   "metadata": {},
   "outputs": [
    {
     "name": "stdout",
     "output_type": "stream",
     "text": [
      "Z value for test sample = -1.33\n",
      "Z value for given Significant Limit = -2.33\n"
     ]
    }
   ],
   "source": [
    "# H0: Pollutants < 34ppm : claim is correct\n",
    "mu = 34\n",
    "sigma = 8\n",
    "\n",
    "s_mean = 32.5\n",
    "n = 50\n",
    "\n",
    "# Standard Error\n",
    "se = sigma / (n**0.5)\n",
    "\n",
    "# Z value (sample size is large)\n",
    "z_test = (s_mean - mu) / se\n",
    "print(\"Z value for test sample =\", round(z_test, 2))\n",
    "\n",
    "# Z value for SL = 1% -> alpha = 0.01\n",
    "z = stats.norm.ppf(0.01)\n",
    "print(\"Z value for given Significant Limit =\", round(z, 2))"
   ]
  },
  {
   "cell_type": "markdown",
   "metadata": {},
   "source": [
    "- As the Z value for test is greater than that of SL. We would not reject the Null Hypotheis, i.e, Pollutants < 34ppm, factory'd c;aimis true."
   ]
  },
  {
   "cell_type": "code",
   "execution_count": 5,
   "metadata": {},
   "outputs": [],
   "source": [
    "#"
   ]
  },
  {
   "cell_type": "markdown",
   "metadata": {},
   "source": [
    "# Problem Statement 4:\n",
    "    Based on population figures and other general information on the U.S. population, suppose it has been estimated that, on average, a family of four in the U.S. spends about $1135 annually on dental expenditures. \n",
    "    Suppose further that a regional dental association wants to test to determine if this figure is accurate for their area of country. \n",
    "    To test this, 22 families of 4 are randomly selected from the population in that area of the country and a log is kept of the family’s dental expenditure for one year. \n",
    "    The resulting data are given below. \n",
    "    Assuming, that dental expenditure is normally distributed in the population, use the data and an alpha of 0.5 to test the dental association’s hypothesis.\n",
    "1008, 812, 1117, 1323, 1308, 1415, 831, 1021, 1287, 851, 930, 730, 699, 872, 913, 944, 954, 987, 1695, 995, 1003, 994"
   ]
  },
  {
   "cell_type": "code",
   "execution_count": 6,
   "metadata": {},
   "outputs": [
    {
     "name": "stdout",
     "output_type": "stream",
     "text": [
      "Value of t Test Statistic for sample = -2.070747228595759\n",
      "t Test value for given SL = -0.6863519891164291\n"
     ]
    }
   ],
   "source": [
    "# H0: on average, a family of four in the U.S. spends about $1135 annually on dental expenditures.\n",
    "mu = 1135\n",
    "\n",
    "sample = np.array([1008, 812, 1117, 1323, 1308, 1415, 831, 1021, 1287, 851, 930, \n",
    "          730, 699, 872, 913, 944, 954, 987, 1695, 995, 1003, 994])\n",
    "\n",
    "s_mean = np.mean(sample)\n",
    "s_std = np.std(sample)\n",
    "n = len(sample)  # n-1 = degree of freedom\n",
    "\n",
    "# Standard Error\n",
    "se = s_std / (n**0.5)\n",
    "\n",
    "# t Test - small sample size and unknown population variance\n",
    "t_test = (s_mean - mu) / se\n",
    "print(\"Value of t Test Statistic for sample =\", t_test)\n",
    "\n",
    "# stats.ttest_1samp(sample, mu)\n",
    "\n",
    "t_val = stats.t.ppf(0.25, 21)   # 2 tail test\n",
    "print(\"t Test value for given SL =\", t_val)"
   ]
  },
  {
   "cell_type": "markdown",
   "metadata": {},
   "source": [
    "- t statistic for test sample is very less than that for alpha, therefore we will reject the null hypothesis."
   ]
  },
  {
   "cell_type": "code",
   "execution_count": 7,
   "metadata": {},
   "outputs": [],
   "source": [
    "#"
   ]
  },
  {
   "cell_type": "markdown",
   "metadata": {},
   "source": [
    "# Problem Statement 5:\n",
    "    In a report prepared by the Economic Research Department of a major bank the Department manager maintains that the average annual family income on Metropolis is $48,432. \n",
    "    What do you conclude about the validity of the report if a random sample of 400 families shows and average income of $48,574 with a standard deviation of 2000?"
   ]
  },
  {
   "cell_type": "code",
   "execution_count": 8,
   "metadata": {},
   "outputs": [
    {
     "name": "stdout",
     "output_type": "stream",
     "text": [
      "Z value for test sample = 1.42\n",
      "Z value for given Significant Limit = -1.96\n"
     ]
    }
   ],
   "source": [
    "# H0: average annual family income on Metropolis is $48,432.\n",
    "\n",
    "mu = 48432\n",
    "\n",
    "n = 400\n",
    "s_mean = 48574\n",
    "s_std = 2000\n",
    "\n",
    "se = s_std / (n**0.5)\n",
    "\n",
    "# 2 tail Z test (n > 30 & distribution is unknown)\n",
    "z_test = (s_mean - mu) / se\n",
    "print(\"Z value for test sample =\", round(z_test, 2))\n",
    "\n",
    "# let SL=5% -> alpha=0.05\n",
    "z = stats.norm.ppf(0.025)\n",
    "print(\"Z value for given Significant Limit =\", round(z, 2))"
   ]
  },
  {
   "cell_type": "markdown",
   "metadata": {},
   "source": [
    "- As the Z value for test is greater than that of SL. We would not reject the Null Hypotheis, i.e, average annual family income on Metropolis is $48,432."
   ]
  },
  {
   "cell_type": "code",
   "execution_count": 9,
   "metadata": {},
   "outputs": [],
   "source": [
    "#"
   ]
  },
  {
   "cell_type": "markdown",
   "metadata": {},
   "source": [
    "# Problem Statement 6:\n",
    "    Suppose that in past years the average price per square foot for warehouses in the United States has been $32.28. \n",
    "    A national real estate investor wants to determine whether that figure has changed now. \n",
    "    The investor hires a researcher who randomly samples 19 warehouses that are for sale across the United States and finds that the mean price per square foot is $31.67, with a standard deviation of $1.29. \n",
    "    assume that the prices of warehouse footage are normally distributed in population. \n",
    "    If the researcher uses a 5% level of significance, what statistical conclusion can be reached? What are the hypotheses?"
   ]
  },
  {
   "cell_type": "code",
   "execution_count": 10,
   "metadata": {},
   "outputs": [
    {
     "name": "stdout",
     "output_type": "stream",
     "text": [
      "Value of t Test Statistic for sample = -2.06118477175179\n",
      "t Test value for given SL = -2.10092204024096\n"
     ]
    }
   ],
   "source": [
    "# H0: the average price per square foot for warehouses in the United States has been $32.28. \n",
    "\n",
    "mu = 32.28\n",
    "\n",
    "#Sample\n",
    "n = 19     # < 30\n",
    "s_mean = 31.67\n",
    "s_std = 1.29\n",
    "\n",
    "se = s_std / (n**0.5)\n",
    "\n",
    "# t-Test - small sample size and unknown population variance\n",
    "t_test = (s_mean - mu) / se\n",
    "print(\"Value of t Test Statistic for sample =\", t_test)\n",
    "\n",
    "# stats.ttest_1samp(sample, mu)\n",
    "\n",
    "t_val = stats.t.ppf(0.025, 18)   # 2 tail test\n",
    "print(\"t Test value for given SL =\", t_val)"
   ]
  },
  {
   "cell_type": "markdown",
   "metadata": {},
   "source": [
    "- t statistic for test sample is very less than that for alpha, therefore we will reject the null hypothesis."
   ]
  },
  {
   "cell_type": "code",
   "execution_count": 11,
   "metadata": {},
   "outputs": [],
   "source": [
    "#"
   ]
  },
  {
   "cell_type": "markdown",
   "metadata": {},
   "source": [
    "# Problem Statement 7:\n",
    "    Fill in the blank spaces in the table and draw your conclusions from it."
   ]
  },
  {
   "cell_type": "markdown",
   "metadata": {},
   "source": [
    "![title](img/Stats2_07.png)"
   ]
  },
  {
   "cell_type": "code",
   "execution_count": 12,
   "metadata": {},
   "outputs": [],
   "source": [
    "#"
   ]
  },
  {
   "cell_type": "code",
   "execution_count": 13,
   "metadata": {},
   "outputs": [],
   "source": [
    "#"
   ]
  },
  {
   "cell_type": "markdown",
   "metadata": {},
   "source": [
    "# Problem Statement 8:\n",
    "Find the t-score for a sample size of 16 taken from a population with mean 10 when the sample mean is 12 and the sample standard deviation is 1.5."
   ]
  },
  {
   "cell_type": "code",
   "execution_count": 14,
   "metadata": {},
   "outputs": [
    {
     "name": "stdout",
     "output_type": "stream",
     "text": [
      "t-score for sample = 5.333333333333333\n"
     ]
    }
   ],
   "source": [
    "n = 16\n",
    "mu = 10\n",
    "s_mean = 12\n",
    "s_std = 1.5\n",
    "\n",
    "se = s_std / (n**0.5)\n",
    "\n",
    "t_test = (s_mean - mu) / se\n",
    "print(\"t-score for sample =\", t_test)"
   ]
  },
  {
   "cell_type": "code",
   "execution_count": 15,
   "metadata": {},
   "outputs": [],
   "source": [
    "#"
   ]
  },
  {
   "cell_type": "markdown",
   "metadata": {},
   "source": [
    "# Problem Statement 9:\n",
    "    Find the t-score below which we can expect 99% of sample means will fall if samples of size 16 are taken from a normally distributed population."
   ]
  },
  {
   "cell_type": "code",
   "execution_count": 16,
   "metadata": {},
   "outputs": [
    {
     "data": {
      "text/plain": [
       "2.602480294995493"
      ]
     },
     "execution_count": 16,
     "metadata": {},
     "output_type": "execute_result"
    }
   ],
   "source": [
    "stats.t.ppf(0.99, 15)"
   ]
  },
  {
   "cell_type": "code",
   "execution_count": 17,
   "metadata": {},
   "outputs": [],
   "source": [
    "#"
   ]
  },
  {
   "cell_type": "markdown",
   "metadata": {},
   "source": [
    "# Problem Statement 10:\n",
    "    If a random sample of size 25 drawn from a normal population gives a mean of 60 and a standard deviation of 4, find the range of t-scores where we can expect to find the middle 95% of all sample means. \n",
    "    Compute the probability that (−𝑡0.05 <𝑡<𝑡0.10)."
   ]
  },
  {
   "cell_type": "code",
   "execution_count": 18,
   "metadata": {},
   "outputs": [
    {
     "data": {
      "text/plain": [
       "-2.063898561628021"
      ]
     },
     "execution_count": 18,
     "metadata": {},
     "output_type": "execute_result"
    }
   ],
   "source": [
    "n = 25\n",
    "\n",
    "mu = 60\n",
    "std = 4\n",
    "\n",
    "stats.t.ppf(0.025, 24)"
   ]
  },
  {
   "cell_type": "markdown",
   "metadata": {},
   "source": [
    "- range of t-scores where we can expect to find the middle 95% of all sample means : -2.06 to +2.06\n"
   ]
  },
  {
   "cell_type": "code",
   "execution_count": 19,
   "metadata": {},
   "outputs": [
    {
     "data": {
      "text/plain": [
       "0.3930461480498255"
      ]
     },
     "execution_count": 19,
     "metadata": {},
     "output_type": "execute_result"
    }
   ],
   "source": [
    "# Compute the probability that (−𝑡0.05 <𝑡<𝑡0.10)\n",
    "stats.t.ppf(0.1, 24) - stats.t.ppf(0.05, 24)"
   ]
  },
  {
   "cell_type": "code",
   "execution_count": 20,
   "metadata": {},
   "outputs": [],
   "source": [
    "#"
   ]
  },
  {
   "cell_type": "markdown",
   "metadata": {},
   "source": [
    "# Problem Statement 11:\n",
    "    Two-tailed test for difference between two population means\n",
    "    Is there evidence to conclude that the number of people travelling from Bangalore to Chennai is different from the number of people travelling from Bangalore to Hosur in a week, given the following:\n",
    "    \n",
    "    Population 1: Bangalore to Chennai \n",
    "    n1 = 1200\n",
    "    x1 = 452\n",
    "    s1 = 212\n",
    "    \n",
    "    Population 2: Bangalore to Hosur \n",
    "    n2 = 800 \n",
    "    x2 = 523\n",
    "    s2 = 185"
   ]
  },
  {
   "cell_type": "code",
   "execution_count": 21,
   "metadata": {},
   "outputs": [
    {
     "name": "stdout",
     "output_type": "stream",
     "text": [
      "Z value for test sample = 7.93\n",
      "Z value ranges for given Significant Limit (Critical Regions) = <-1.96 & >1.96\n"
     ]
    }
   ],
   "source": [
    "# H0: Number of people same in both cases\n",
    "n1 = 1200\n",
    "x1 = 452\n",
    "s1 = 212\n",
    "\n",
    "n2 = 800 \n",
    "x2 = 523\n",
    "s2 = 185\n",
    "\n",
    "se = ((s1**2 / n1) + (s2**2 / n2)) ** 0.5\n",
    "\n",
    "# Z test - large sample size\n",
    "z_test = (x2 - x1) / se\n",
    "print(\"Z value for test sample =\", round(z_test, 2))\n",
    "\n",
    "# let 5% SL - 2 tailed\n",
    "z = stats.norm.ppf(0.025)\n",
    "print(f\"Z value ranges for given Significant Limit (Critical Regions) = <{round(z, 2)} & >{-round(z, 2)}\")"
   ]
  },
  {
   "cell_type": "markdown",
   "metadata": {},
   "source": [
    "### As the Z value for sample lies in the critical region, Null Hypothesis will be rejected.\n",
    "- Therefore, there is evidence that the number of people travelling from Bangalore to Chennai is different from the number of people travelling from Bangalore to Hosur in a week."
   ]
  },
  {
   "cell_type": "code",
   "execution_count": 22,
   "metadata": {},
   "outputs": [],
   "source": [
    "#"
   ]
  },
  {
   "cell_type": "markdown",
   "metadata": {},
   "source": [
    "# Problem Statement 12:\n",
    "    Is there evidence to conclude that the number of people preferring Duracell battery is different from the number of people preferring Energizer battery, given the following: \n",
    "    \n",
    "    Population 1: Duracell\n",
    "    n1 = 100\n",
    "    x1 = 308\n",
    "    s1 = 84\n",
    "    \n",
    "    Population 2: Energizer \n",
    "    n2 = 100\n",
    "    x2 = 254\n",
    "    s2 = 67"
   ]
  },
  {
   "cell_type": "code",
   "execution_count": 23,
   "metadata": {},
   "outputs": [
    {
     "name": "stdout",
     "output_type": "stream",
     "text": [
      "Z value for test sample = -5.03\n",
      "Z value ranges for given Significant Limit (Critical Regions) = <-1.96 & >1.96\n"
     ]
    }
   ],
   "source": [
    "# H0: Number of people same in both cases\n",
    "n1 = 100\n",
    "x1 = 308\n",
    "s1 = 84\n",
    "\n",
    "n2 = 100 \n",
    "x2 = 254\n",
    "s2 = 67\n",
    "\n",
    "se = ((s1**2 / n1) + (s2**2 / n2)) ** 0.5\n",
    "\n",
    "# Z test - large sample size\n",
    "z_test = (x2 - x1) / se\n",
    "print(\"Z value for test sample =\", round(z_test, 2))\n",
    "\n",
    "# let 5% SL - 2 tailed\n",
    "z = stats.norm.ppf(0.025)\n",
    "print(f\"Z value ranges for given Significant Limit (Critical Regions) = <{round(z, 2)} & >{-round(z, 2)}\")"
   ]
  },
  {
   "cell_type": "markdown",
   "metadata": {},
   "source": [
    "### As the Z value for sample lies in the critical region, Null Hypothesis will be rejected.\n",
    "- Therefore there is eidence that the number of people preferring Duracell battery is different from the number of people preferring Energizer battery."
   ]
  },
  {
   "cell_type": "code",
   "execution_count": 24,
   "metadata": {},
   "outputs": [],
   "source": [
    "#"
   ]
  },
  {
   "cell_type": "markdown",
   "metadata": {},
   "source": [
    "# Problem Statement 13:\n",
    "    Pooled estimate of the population variance\n",
    "    Does the data provide sufficient evidence to conclude that average percentage increase in the price of sugar differs when it is sold at two different prices? \n",
    "    \n",
    "    Population 1: \n",
    "    Price of sugar = Rs. 27.50 \n",
    "    n1 = 14\n",
    "    x1 = 0.317%\n",
    "    s1 = 0.12%\n",
    "    \n",
    "    Population 2: \n",
    "    Price of sugar = Rs. 20.00 \n",
    "    n2 = 9\n",
    "    x2 = 0.21%\n",
    "    s2 = 0.11%"
   ]
  },
  {
   "cell_type": "code",
   "execution_count": 25,
   "metadata": {},
   "outputs": [
    {
     "name": "stdout",
     "output_type": "stream",
     "text": [
      "t Test value for test sample = -2.2\n",
      "t Test value ranges for given Significant Limit (Critical Regions) = <-2.08 & >2.08\n"
     ]
    }
   ],
   "source": [
    "# H0: Both samples come from same population\n",
    "# Population 1: Price of sugar = Rs. 27.50 \n",
    "n1 = 14\n",
    "x1 = 0.317\n",
    "s1 = 0.12\n",
    "\n",
    "# Population 2: Price of sugar = Rs. 20.00 \n",
    "n2 = 9\n",
    "x2 = 0.21\n",
    "s2 = 0.11\n",
    "\n",
    "se = ((s1**2 / n1) + (s2**2 / n2)) ** 0.5\n",
    "\n",
    "# t-Test - small sample size and unknown population variance\n",
    "t_test = (x2 - x1) / se\n",
    "print(\"t Test value for test sample =\", round(t_test, 2))\n",
    "\n",
    "# let 5% SL - 2 tailed\n",
    "t = stats.t.ppf(0.025, df = n1+n2-2)\n",
    "print(f\"t Test value ranges for given Significant Limit (Critical Regions) = <{round(t, 2)} & >{-round(t, 2)}\")"
   ]
  },
  {
   "cell_type": "markdown",
   "metadata": {},
   "source": [
    "### As the t-Test value for sample lies in the critical region, Null Hypothesis will be rejected.\n",
    "- the data provide sufficient evidence to conclude that average percentage increase in the price of sugar differs when it is sold at two different prices"
   ]
  },
  {
   "cell_type": "code",
   "execution_count": 26,
   "metadata": {},
   "outputs": [],
   "source": [
    "#"
   ]
  },
  {
   "cell_type": "markdown",
   "metadata": {},
   "source": [
    "# Problem Statement 14:\n",
    "    The manufacturers of compact disk players want to test whether a small price reduction is enough to increase sales of their product. Is there evidence that the small price reduction is enough to increase sales of compact disk players? \n",
    "    \n",
    "    Population 1: Before reduction\n",
    "    n1 = 15\n",
    "    x1 = Rs. 6598 \n",
    "    s1 = Rs. 844 \n",
    "    \n",
    "    Population 2: After reduction \n",
    "    n2 = 12 \n",
    "    x2 = RS. 6870\n",
    "    s2 = Rs. 669"
   ]
  },
  {
   "cell_type": "code",
   "execution_count": 27,
   "metadata": {},
   "outputs": [
    {
     "name": "stdout",
     "output_type": "stream",
     "text": [
      "t Test value for test sample = 0.93\n",
      "t Test value ranges for given Significant Limit (Critical Regions) = <-2.06 & >2.06\n"
     ]
    }
   ],
   "source": [
    "# H0: Both samples come from same population - Small Reduction not enough to increase sales of product\n",
    "# Population 1: Before Reduction\n",
    "n1 = 15\n",
    "x1 = 6598 \n",
    "s1 = 844\n",
    "\n",
    "# Population 2: After reduction \n",
    "n2 = 12 \n",
    "x2 = 6870\n",
    "s2 = 669\n",
    "\n",
    "se = ((s1**2 / n1) + (s2**2 / n2)) ** 0.5\n",
    "\n",
    "# t-Test - small sample size and unknown population variance\n",
    "t_test = (x2 - x1) / se\n",
    "print(\"t Test value for test sample =\", round(t_test, 2))\n",
    "\n",
    "# let 5% SL - 2 tailed\n",
    "t = stats.t.ppf(0.025, df = n1+n2-2)\n",
    "print(f\"t Test value ranges for given Significant Limit (Critical Regions) = <{round(t, 2)} & >{-round(t, 2)}\")"
   ]
  },
  {
   "cell_type": "markdown",
   "metadata": {},
   "source": [
    "- the t Test value lies outside the range of critical values, therefore null hypthesis is true i.e. the small reduction made was not enough for increasing the sales."
   ]
  },
  {
   "cell_type": "code",
   "execution_count": 28,
   "metadata": {},
   "outputs": [],
   "source": [
    "#"
   ]
  },
  {
   "cell_type": "markdown",
   "metadata": {},
   "source": [
    "# Problem Statement 15:\n",
    "    Comparisons of two population proportions when the hypothesized difference is zero \n",
    "    Carry out a two-tailed test of the equality of banks’ share of the car loan market in 1980 and 1995.\n",
    "    \n",
    "    Population 1: 1980\n",
    "    n1 = 1000\n",
    "    x1 = 53\n",
    "    𝑝 1 = 0.53 \n",
    "    \n",
    "    Population 2: 1985 \n",
    "    n2 = 100\n",
    "    x2 = 43\n",
    "    𝑝 2= 0.53"
   ]
  },
  {
   "cell_type": "code",
   "execution_count": 29,
   "metadata": {},
   "outputs": [
    {
     "name": "stdout",
     "output_type": "stream",
     "text": [
      "Z value for test sample = 0.0\n",
      "Z value ranges for given Significant Limit (Critical Regions) = <-1.96 & >1.96\n"
     ]
    }
   ],
   "source": [
    "# H0 : Have same market share in 1980 & 1985\n",
    "# Population 1: 1980\n",
    "n1 = 1000\n",
    "x1 = 53\n",
    "p1 = 0.53 \n",
    "\n",
    "# Population 2: 1985 \n",
    "n2 = 100\n",
    "x2 = 43\n",
    "p2 = 0.53\n",
    "\n",
    "# Combined Sample Proportion\n",
    "p = (x1 + x2) / (n1 + n2)\n",
    "\n",
    "se = ((p * (1 - p) / n1) + (p * (1 - p) / n2)) ** 0.5\n",
    "# print(se)\n",
    "\n",
    "# Z test - large sample size\n",
    "z_test = (p2 - p1) / se\n",
    "print(\"Z value for test sample =\", round(z_test, 2))\n",
    "\n",
    "# let 5% SL - 2 tailed\n",
    "z = stats.norm.ppf(0.025)\n",
    "print(f\"Z value ranges for given Significant Limit (Critical Regions) = <{round(z, 2)} & >{-round(z, 2)}\")"
   ]
  },
  {
   "cell_type": "markdown",
   "metadata": {},
   "source": [
    "### The Z value for the test data = 0 : we can also observe this as p1 = p2.\n",
    "- Since the individual proportions are same, z value lies on the mean and hence only lie in critical region if alpha = 1."
   ]
  },
  {
   "cell_type": "code",
   "execution_count": 30,
   "metadata": {},
   "outputs": [],
   "source": [
    "#"
   ]
  },
  {
   "cell_type": "markdown",
   "metadata": {},
   "source": [
    "# Problem Statement 16:\n",
    "    Carry out a one-tailed test to determine whether the population proportion of traveler’s check buyers who buy at least $2500 in checks when sweepstakes prizes are offered as at least 10% higher than the proportion of such buyers when no sweepstakes are on.\n",
    "    \n",
    "    Population 1: With sweepstakes\n",
    "    n1 = 300\n",
    "    x1 = 120\n",
    "    p1 = 0.40\n",
    "    \n",
    "    Population 2: No sweepstakes \n",
    "    n2 = 700 \n",
    "    x2 = 140\n",
    "    p2 = 0.20"
   ]
  },
  {
   "cell_type": "code",
   "execution_count": 31,
   "metadata": {},
   "outputs": [
    {
     "name": "stdout",
     "output_type": "stream",
     "text": [
      "Z value for test sample = 3.3\n",
      "Z value range for given Significant Limit (Critical Regions) = >1.64\n"
     ]
    }
   ],
   "source": [
    "# H0 : Proportion of buyers with sweeptakers are equal to 10% higher than that with no sweeptakers\n",
    "# H1 : Proportion of buyers with sweeptakers are greater than 10% higher than that with no sweeptakers\n",
    "\n",
    "# Population 1: With sweepstakes\n",
    "n1 = 300\n",
    "x1 = 120\n",
    "p1 = 0.40\n",
    "\n",
    "# Population 2: No sweepstakes \n",
    "n2 = 700 \n",
    "x2 = 140\n",
    "p2 = 0.20\n",
    "\n",
    "d = 0.1\n",
    "\n",
    "p = (x1 + x2) / (n1 + n2)\n",
    "se = ((p * (1 - p) / n1) + (p * (1 - p) / n2)) ** 0.5\n",
    "\n",
    "z_test = (p1 - p2 - d) / se\n",
    "print(\"Z value for test sample =\", round(z_test, 2))\n",
    "\n",
    "# let 5% SL - 1 tailed - ony checking for higher values\n",
    "z = stats.norm.ppf(0.05)\n",
    "print(f\"Z value range for given Significant Limit (Critical Regions) = >{-round(z, 2)}\")"
   ]
  },
  {
   "cell_type": "markdown",
   "metadata": {},
   "source": [
    "### Z value for test samples lies in the critical region, therefore we will reject the null hypothesis.\n",
    "### i.e. Proportion of buyers with sweeptakers are greater than 10% higher than that with no sweeptakers"
   ]
  },
  {
   "cell_type": "code",
   "execution_count": 32,
   "metadata": {},
   "outputs": [],
   "source": [
    "#"
   ]
  },
  {
   "cell_type": "markdown",
   "metadata": {},
   "source": [
    "# Problem Statement 17:\n",
    "    A die is thrown 132 times with the following results: \n",
    "    Number turned up: 1, 2, 3, 4, 5, 6 \n",
    "    Frequency: 16, 20, 25, 14, 29, 28\n",
    "    Is the die unbiased? Consider the degrees of freedom as p − 1."
   ]
  },
  {
   "cell_type": "code",
   "execution_count": 33,
   "metadata": {},
   "outputs": [
    {
     "name": "stdout",
     "output_type": "stream",
     "text": [
      "chi-square stastic = 9.0\n",
      "p value for chi2 = 0.1090641579497725\n"
     ]
    }
   ],
   "source": [
    "# H0: Die is unbiased\n",
    "# Observed frequency\n",
    "obs = np.array([16, 20, 25, 14, 29, 28])\n",
    "\n",
    "# Expected Frequency\n",
    "exp = np.array([132/6] * 6)\n",
    "\n",
    "chi2_stat = stats.chisquare(obs, exp).statistic\n",
    "chi2_pval = stats.chisquare(obs, exp).pvalue\n",
    "\n",
    "# Let SL = 0.05\n",
    "print('chi-square stastic =',chi2_stat)\n",
    "print('p value for chi2 =', chi2_pval)"
   ]
  },
  {
   "cell_type": "markdown",
   "metadata": {},
   "source": [
    "## As the p value(0.109) > SL(0.05) -> Die is Unbiased"
   ]
  },
  {
   "cell_type": "code",
   "execution_count": 34,
   "metadata": {},
   "outputs": [],
   "source": [
    "#"
   ]
  },
  {
   "cell_type": "markdown",
   "metadata": {},
   "source": [
    "# Problem Statement 18:\n",
    "In a certain town, there are about one million eligible voters. A simple random sample of 10,000 eligible voters was chosen to study the relationship between gender and participation in the last election. The results are summarized in the following 2X2 (read two by two) contingency table:\n"
   ]
  },
  {
   "cell_type": "markdown",
   "metadata": {},
   "source": [
    "![title](img/Stats2_18.png)\n",
    "\n",
    " We would want to check whether being a man or a woman (columns) is independent of having voted in the last election (rows). In other words, is “gender and voting independent”?"
   ]
  },
  {
   "cell_type": "code",
   "execution_count": 35,
   "metadata": {},
   "outputs": [
    {
     "name": "stdout",
     "output_type": "stream",
     "text": [
      "chi-square stastic = 6.660455899328042\n",
      "p value for chi2 = 0.03578494697123385\n"
     ]
    }
   ],
   "source": [
    "# H0: Gender & Voting Independent \n",
    "\n",
    "# Observed Data\n",
    "obs_men_voted = 2792\n",
    "obs_men_not_voted = 1486\n",
    "obs_women_voted = 3591\n",
    "obs_women_not_voted = 2131\n",
    "\n",
    "obs = np.array([obs_men_voted, obs_men_not_voted, obs_women_voted, obs_women_not_voted]) \n",
    "\n",
    "total_men = obs_men_voted + obs_men_not_voted\n",
    "total_women = obs_women_voted + obs_women_not_voted\n",
    "\n",
    "total_voted = obs_men_voted + obs_women_voted\n",
    "total_not_voted = obs_men_not_voted + obs_women_not_voted\n",
    "\n",
    "total = total_not_voted + total_voted\n",
    "\n",
    "ratio_voted = total_voted / total\n",
    "ratio_not_voted = total_not_voted / total\n",
    "\n",
    "# Expected Data\n",
    "exp_men_voted = ratio_voted * total_men\n",
    "exp_men_not_voted = ratio_not_voted * total_men\n",
    "exp_women_voted = ratio_voted * total_women\n",
    "exp_women_not_voted = ratio_not_voted * total_women\n",
    "\n",
    "exp = np.array([exp_men_voted, exp_men_not_voted, exp_women_voted, exp_women_not_voted])\n",
    "\n",
    "chi2_stat = stats.chisquare(obs, exp, ddof=1).statistic\n",
    "chi2_pval = stats.chisquare(obs, exp, ddof=1).pvalue\n",
    "\n",
    "# Let SL = 0.05\n",
    "print('chi-square stastic =',chi2_stat)\n",
    "print('p value for chi2 =', chi2_pval)"
   ]
  },
  {
   "cell_type": "markdown",
   "metadata": {},
   "source": [
    "## p value of chi2(0.035) < SL(0.05), therefore reject null hypothesis.\n",
    "## gender and voting are not independent"
   ]
  },
  {
   "cell_type": "code",
   "execution_count": 36,
   "metadata": {},
   "outputs": [],
   "source": [
    "#"
   ]
  },
  {
   "cell_type": "markdown",
   "metadata": {},
   "source": [
    "# Problem Statement 19:\n",
    "    A sample of 100 voters are asked which of four candidates they would vote for in an election. The number supporting each candidate is given below:\n",
    "    \n",
    "    Higgins - 41\n",
    "    Reardon - 19\n",
    "    White.  - 24\n",
    "    Charlton - 16\n",
    "    \n",
    "    Do the data suggest that all candidates are equally popular? [Chi-Square = 14.96, with 3 df, 𝑝 < 0.05 ."
   ]
  },
  {
   "cell_type": "code",
   "execution_count": 37,
   "metadata": {},
   "outputs": [
    {
     "name": "stdout",
     "output_type": "stream",
     "text": [
      "chi-square stastic = 14.959999999999999\n",
      "p value for chi2 = nan\n"
     ]
    }
   ],
   "source": [
    "# H0: All candidates equally popular\n",
    "obs = np.array([41, 19, 24, 16])\n",
    "exp = np.array([100/4]*4)\n",
    "\n",
    "chi2_stat = stats.chisquare(obs, exp, ddof=3).statistic\n",
    "chi2_pval = stats.chisquare(obs, exp, ddof=3).pvalue\n",
    "\n",
    "print('chi-square stastic =',chi2_stat)\n",
    "print('p value for chi2 =', chi2_pval)"
   ]
  },
  {
   "cell_type": "markdown",
   "metadata": {},
   "source": [
    "-- Chi2 value for p = 0.05 with df=3 is 7.815. Chi2 for test is 14.9 (>7.815).\n",
    "- Hence H0 will be rejected, i.e. All candidates are not equally important."
   ]
  },
  {
   "cell_type": "code",
   "execution_count": 38,
   "metadata": {},
   "outputs": [],
   "source": [
    "#"
   ]
  },
  {
   "cell_type": "markdown",
   "metadata": {},
   "source": [
    "# Problem Statement 20:\n",
    "    Children of three ages are asked to indicate their preference for three photographs of adults. \n",
    "    Do the data suggest that there is a significant relationship between age and photograph preference? \n",
    "    What is wrong with this study? [Chi-Square = 29.6, with 4 df: 𝑝 < 0.05].\n",
    "    \n",
    "![title](img/Stats2_20.png)"
   ]
  },
  {
   "cell_type": "code",
   "execution_count": 39,
   "metadata": {},
   "outputs": [
    {
     "data": {
      "text/plain": [
       "9.487729036781154"
      ]
     },
     "execution_count": 39,
     "metadata": {},
     "output_type": "execute_result"
    }
   ],
   "source": [
    "# H0: There is no relationship between age and photograph.\n",
    "stats.chi2.ppf(q=0.95, df=4)"
   ]
  },
  {
   "cell_type": "markdown",
   "metadata": {},
   "source": [
    "- chi2 test(29.6) > chi2(p<0.05) (9.487). Reject Null Hypothesis.\n",
    "- Therefore, there is a relationship between age and photograph."
   ]
  },
  {
   "cell_type": "code",
   "execution_count": 40,
   "metadata": {},
   "outputs": [],
   "source": [
    "#"
   ]
  },
  {
   "cell_type": "markdown",
   "metadata": {},
   "source": [
    "# Problem Statement 21:\n",
    "\n",
    "![title](img/Stats2_21.png)"
   ]
  },
  {
   "cell_type": "code",
   "execution_count": 41,
   "metadata": {},
   "outputs": [
    {
     "data": {
      "text/plain": [
       "3.841458820694124"
      ]
     },
     "execution_count": 41,
     "metadata": {},
     "output_type": "execute_result"
    }
   ],
   "source": [
    "# H0: There is no difference between Support & No Support.\n",
    "stats.chi2.ppf(q=0.95, df=1)"
   ]
  },
  {
   "cell_type": "markdown",
   "metadata": {},
   "source": [
    "- Reject Null Hypothesis -> There is difference between the \"support\" and \"no support\" conditions in the frequency with which individuals are likely to conform"
   ]
  },
  {
   "cell_type": "code",
   "execution_count": 42,
   "metadata": {},
   "outputs": [],
   "source": [
    "#"
   ]
  },
  {
   "cell_type": "markdown",
   "metadata": {},
   "source": [
    "![title](img/Stats2_22.png)"
   ]
  },
  {
   "cell_type": "code",
   "execution_count": 43,
   "metadata": {},
   "outputs": [
    {
     "data": {
      "text/plain": [
       "9.21034037197618"
      ]
     },
     "execution_count": 43,
     "metadata": {},
     "output_type": "execute_result"
    }
   ],
   "source": [
    "# H0: There is no relationship between height and leadership qualities\n",
    "stats.chi2.ppf(q=0.99, df=2)"
   ]
  },
  {
   "cell_type": "markdown",
   "metadata": {},
   "source": [
    "- 10.71 > 9.2103: Reject Null Hypothesis\n",
    "- There is relationship between height and leadership qualities"
   ]
  },
  {
   "cell_type": "code",
   "execution_count": 44,
   "metadata": {},
   "outputs": [],
   "source": [
    "#"
   ]
  },
  {
   "cell_type": "markdown",
   "metadata": {},
   "source": [
    "# Problem Statement 23:\n",
    "    Each respondent in the Current Population Survey of March 1993 was classified as employed, unemployed, or outside the labor force. The results for men in California age 35-\n",
    " \n",
    "![title](img/Stats2_23.png)"
   ]
  },
  {
   "cell_type": "code",
   "execution_count": 45,
   "metadata": {},
   "outputs": [
    {
     "data": {
      "text/plain": [
       "129.56600855974102"
      ]
     },
     "execution_count": 45,
     "metadata": {},
     "output_type": "execute_result"
    }
   ],
   "source": [
    "# H0: No relation in marriage and employment\n",
    "# Observed Values\n",
    "obs = np.array([679, 63, 42, 103, 10, 18, 114, 20, 25])\n",
    "\n",
    "# Expected values - calculated as in ques 18\n",
    "exp = np.array([623, 29, 48, 136, 6, 11, 114, 6, 8])\n",
    "\n",
    "stats.chisquare(obs, exp).statistic"
   ]
  },
  {
   "cell_type": "code",
   "execution_count": 46,
   "metadata": {},
   "outputs": [
    {
     "data": {
      "text/plain": [
       "12.591587243743977"
      ]
     },
     "execution_count": 46,
     "metadata": {},
     "output_type": "execute_result"
    }
   ],
   "source": [
    "# Let SL = 0.05\n",
    "stats.chi2.ppf(q=0.95, df=9-3)"
   ]
  },
  {
   "cell_type": "markdown",
   "metadata": {},
   "source": [
    "- There is a very strong evidence that there s relation between marrital status and employment"
   ]
  },
  {
   "cell_type": "code",
   "execution_count": null,
   "metadata": {},
   "outputs": [],
   "source": []
  }
 ],
 "metadata": {
  "kernelspec": {
   "display_name": "Python 3",
   "language": "python",
   "name": "python3"
  },
  "language_info": {
   "codemirror_mode": {
    "name": "ipython",
    "version": 3
   },
   "file_extension": ".py",
   "mimetype": "text/x-python",
   "name": "python",
   "nbconvert_exporter": "python",
   "pygments_lexer": "ipython3",
   "version": "3.7.7"
  }
 },
 "nbformat": 4,
 "nbformat_minor": 4
}
