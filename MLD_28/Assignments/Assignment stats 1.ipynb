{
 "cells": [
  {
   "cell_type": "markdown",
   "metadata": {},
   "source": [
    "# Notebook Imports"
   ]
  },
  {
   "cell_type": "code",
   "execution_count": 1,
   "metadata": {},
   "outputs": [],
   "source": [
    "import numpy as np \n",
    "import pandas as pd\n",
    "import matplotlib.pyplot as plt\n",
    "from scipy import stats\n",
    "from math import factorial as f\n",
    "import seaborn as sns\n",
    "\n",
    "%matplotlib inline"
   ]
  },
  {
   "cell_type": "markdown",
   "metadata": {},
   "source": [
    "# Stats Assignment 1"
   ]
  },
  {
   "cell_type": "markdown",
   "metadata": {},
   "source": [
    " Calculate the mean, median, mode and standard deviation for the problem\n",
    "  statements 1& 2.\n",
    " \n",
    "## Problem Statement 1:\n",
    " The marks awarded for an assignment set for a Year 8 class of 20 students were as\n",
    " follows:\n",
    " 6 7 5 7 7 8 7 6 9 7 4 10 6 8 8 9 5 6 4 8\n",
    " \n"
   ]
  },
  {
   "cell_type": "code",
   "execution_count": 2,
   "metadata": {},
   "outputs": [
    {
     "name": "stdout",
     "output_type": "stream",
     "text": [
      "6 7 5 7 7 8 7 6 9 7 4 10 6 8 8 9 5 6 4 8\n",
      "Mean Marks: 6.85\n",
      "Median of Marks: 7.0\n",
      "Mode of Marks: 7\n",
      "Standard Dev of Marks: 1.5898113095584647\n",
      "Variance in Marks: 2.5275000000000003\n"
     ]
    }
   ],
   "source": [
    "marks = list(map(int, input().split()))\n",
    "\n",
    "# mean\n",
    "mean = np.mean(marks)\n",
    "print(\"Mean Marks:\", mean)\n",
    "\n",
    "# median\n",
    "median = np.median(marks)\n",
    "print(\"Median of Marks:\", median)\n",
    "\n",
    "# mode\n",
    "mode = stats.mode(marks)\n",
    "print(\"Mode of Marks:\", mode[0][0])\n",
    "\n",
    "# standard deviation\n",
    "std_dev = np.std(marks)\n",
    "print(\"Standard Dev of Marks:\", std_dev)\n",
    "\n",
    "# variance\n",
    "var = np.var(marks)\n",
    "print(\"Variance in Marks:\", var)"
   ]
  },
  {
   "cell_type": "markdown",
   "metadata": {},
   "source": [
    "## Problem Statement 2:\n",
    " The number of calls from motorists per day for roadside service was recorded for a\n",
    " particular month:\n",
    " 28, 122, 217, 130, 120, 86, 80, 90, 140, 120, 70, 40, 145, 113, 90, 68, 174, 194, 170, 100, 75, 104, 97, 75,\n",
    " 123, 100, 75, 104, 97, 75, 123, 100, 89, 120, 109"
   ]
  },
  {
   "cell_type": "code",
   "execution_count": 3,
   "metadata": {},
   "outputs": [
    {
     "name": "stdout",
     "output_type": "stream",
     "text": [
      "Mean Calls per Month: 107.51428571428572\n",
      "Median of Calls in a Month: 100.0\n",
      "Mode of Calls in a Month: 75\n",
      "Standard Dev of Calls in a Month: 38.77287080168403\n",
      "Variance in Calls in a Month: 1503.3355102040816\n"
     ]
    }
   ],
   "source": [
    "calls = [28, 122, 217, 130, 120, 86, 80, 90, 140, 120, 70, 40, 145, 113, 90, 68, 174, 194, \n",
    "         170, 100, 75, 104, 97, 75, 123, 100, 75, 104, 97, 75, 123, 100, 89, 120, 109]\n",
    "\n",
    "# mean\n",
    "mean = np.mean(calls)\n",
    "print(\"Mean Calls per Month:\", mean)\n",
    "\n",
    "# median\n",
    "median = np.median(calls)\n",
    "print(\"Median of Calls in a Month:\", median)\n",
    "\n",
    "# mode\n",
    "mode = stats.mode(calls)\n",
    "print(\"Mode of Calls in a Month:\", mode[0][0])\n",
    "\n",
    "# standard deviation\n",
    "std_dev = np.std(calls)\n",
    "print(\"Standard Dev of Calls in a Month:\", std_dev)\n",
    "\n",
    "# variance\n",
    "var = np.var(calls)\n",
    "print(\"Variance in Calls in a Month:\", var)"
   ]
  },
  {
   "cell_type": "markdown",
   "metadata": {},
   "source": [
    "## Problem Statement 3:\n",
    " The number of times I go to the gym in weekdays, are given below along with its\n",
    " associated probability:\n",
    " \n",
    " x = 0, 1, 2, 3, 4, 5\n",
    " \n",
    " f(x) = 0.09, 0.15, 0.40, 0.25, 0.10, 0.01\n",
    " \n",
    " Calculate the mean no. of workouts in a week. Also evaluate the variance involved in it."
   ]
  },
  {
   "cell_type": "code",
   "execution_count": 4,
   "metadata": {},
   "outputs": [
    {
     "name": "stdout",
     "output_type": "stream",
     "text": [
      "Mean No. of workouts in a week = 2.15\n",
      "Variance involed in weekly workout = 1.2275\n"
     ]
    }
   ],
   "source": [
    "x = np.array([0, 1, 2, 3, 4, 5])\n",
    "fx = np.array([0.09, 0.15, 0.40, 0.25, 0.10, 0.01])\n",
    "\n",
    "mean = np.sum(x * fx)\n",
    "print(\"Mean No. of workouts in a week =\", mean)\n",
    "\n",
    "var = np.sum(fx * (x - mean)**2)\n",
    "print(\"Variance involed in weekly workout =\", var)"
   ]
  },
  {
   "cell_type": "markdown",
   "metadata": {},
   "source": [
    "## Problem Statement 4:\n",
    "Let the continuous random variable D denote the diameter of the hole drilled in an aluminum sheet. The target diameter to be achieved is 12.5mm. Random disturbances in the process often result in inaccuracy.\n",
    "\n",
    "Historical data shows that the distribution of D can be modelled by the <b> PDF (𝑑) = 20𝑒−20(𝑑−12.5) </b>, 𝑑 ≥ 12.5. \n",
    "\n",
    "    If a part with diameter > 12.6 mm needs to be scrapped, what is the proportion of those parts? \n",
    "\n",
    "    What is the CDF when the diameter is of 11 mm? \n",
    "\n",
    "    What is your conclusion regarding the proportion of scraps?"
   ]
  },
  {
   "cell_type": "code",
   "execution_count": 5,
   "metadata": {},
   "outputs": [
    {
     "name": "stdout",
     "output_type": "stream",
     "text": [
      "PDF at neg inf = 0.0\n",
      "PDF at pos inf = 0.0\n",
      "PDF at 12.5 = 20.0\n"
     ]
    }
   ],
   "source": [
    "# defining pdf function\n",
    "def pdf(d):\n",
    "    if d >= 12.5:\n",
    "        p = 20 * (d - 12.5)\n",
    "        p = np.e ** (-1 * p)\n",
    "        p = 20 * p\n",
    "    else:    # taking condition for d < 12.5 as 0\n",
    "        p = 0.\n",
    "        \n",
    "    return p\n",
    "\n",
    "# testing pdf on boundary conditions\n",
    "print(\"PDF at neg inf =\", pdf(np.NINF))\n",
    "print(\"PDF at pos inf =\", pdf(np.Inf))\n",
    "print(\"PDF at 12.5 =\", pdf(12.5))"
   ]
  },
  {
   "cell_type": "code",
   "execution_count": 6,
   "metadata": {},
   "outputs": [
    {
     "name": "stdout",
     "output_type": "stream",
     "text": [
      "Proportion of parts with dia > 12.6 mm = 13.5335 %\n"
     ]
    }
   ],
   "source": [
    "# for d > 12.6 mm\n",
    "# proportion will be area under the curve of PDF from 12.6 and above\n",
    "\n",
    "area_pdf = lambda d : -1 * np.exp(-20 * (d - 12.5))\n",
    "ans = area_pdf(np.Inf) - area_pdf(12.6)\n",
    "print('Proportion of parts with dia > 12.6 mm =', round(ans*100, 4), '%')"
   ]
  },
  {
   "cell_type": "code",
   "execution_count": 7,
   "metadata": {},
   "outputs": [
    {
     "name": "stdout",
     "output_type": "stream",
     "text": [
      "CDF when the diameter is of 11 mm = 0\n"
     ]
    }
   ],
   "source": [
    "# CDF is the Area Under the PDF curve.\n",
    "# Since for d < 12.5 mm the pdf = 0\n",
    "# Therefore CDF will also be zero\n",
    "cdf_11 = 0\n",
    "print('CDF when the diameter is of 11 mm =', cdf_11)"
   ]
  },
  {
   "cell_type": "code",
   "execution_count": 8,
   "metadata": {},
   "outputs": [],
   "source": [
    "#"
   ]
  },
  {
   "cell_type": "code",
   "execution_count": 9,
   "metadata": {},
   "outputs": [],
   "source": [
    "#"
   ]
  },
  {
   "cell_type": "code",
   "execution_count": 10,
   "metadata": {},
   "outputs": [],
   "source": [
    "#"
   ]
  },
  {
   "cell_type": "markdown",
   "metadata": {},
   "source": [
    "# Problem Statement 5:\n",
    "\n",
    "A company manufactures LED bulbs with a faulty rate of 30%. If I randomly select 6\n",
    "chosen LEDs, what is the probability of having 2 faulty LEDs in my sample?\n",
    "Calculate the average value of this process. Also evaluate the standard deviation\n",
    "associated with it."
   ]
  },
  {
   "cell_type": "code",
   "execution_count": 11,
   "metadata": {},
   "outputs": [
    {
     "name": "stdout",
     "output_type": "stream",
     "text": [
      "Probability of having 2 faulty LEDs in the sample = 32.413 %\n"
     ]
    }
   ],
   "source": [
    "# Let success = faulty bulb -> p = 30% -> q = 70%\n",
    "p = 0.3\n",
    "q = 0.7\n",
    "\n",
    "# No. of Trials = 6\n",
    "# No. of Successes = 2\n",
    "N, n = 6, 2\n",
    "\n",
    "comb = f(N) / (f(n) * f(N-n))     #NCn\n",
    "\n",
    "# Computing Probability\n",
    "prob = comb * (p ** n) * (q ** (N-n))\n",
    "print(\"Probability of having 2 faulty LEDs in the sample =\", round(prob*100, 3), \"%\")"
   ]
  },
  {
   "cell_type": "code",
   "execution_count": 12,
   "metadata": {},
   "outputs": [
    {
     "name": "stdout",
     "output_type": "stream",
     "text": [
      "32.045 %\n"
     ]
    }
   ],
   "source": [
    "# Using numpy\n",
    "prob_np = sum(np.random.binomial(6, 0.7, 20000) == 4) / 20000.\n",
    "print(prob_np * 100, \"%\")"
   ]
  },
  {
   "cell_type": "code",
   "execution_count": 13,
   "metadata": {},
   "outputs": [
    {
     "data": {
      "text/plain": [
       "4.19785"
      ]
     },
     "execution_count": 13,
     "metadata": {},
     "output_type": "execute_result"
    }
   ],
   "source": [
    "# mean of 20,000 samples\n",
    "np.mean(np.random.binomial(6, 0.7, 20000))"
   ]
  },
  {
   "cell_type": "code",
   "execution_count": 14,
   "metadata": {},
   "outputs": [
    {
     "data": {
      "text/plain": [
       "1.116968468668655"
      ]
     },
     "execution_count": 14,
     "metadata": {},
     "output_type": "execute_result"
    }
   ],
   "source": [
    "# standard deviation of 20,000 samples\n",
    "np.std(np.random.binomial(6, 0.7, 20000))"
   ]
  },
  {
   "cell_type": "markdown",
   "metadata": {},
   "source": [
    "# Problem Statement 6:\n",
    "Gaurav and Barakha are both preparing for entrance exams. Gaurav attempts to solve 8 questions per day with a correction rate of 75%, while Barakha averages around 12 questions per day with a correction rate of 45%. What is the probability that each of them will solve 5 questions correctly? What happens in cases of 4 and 6 correct solutions? What do you infer from it? What are the two main governing factors affecting their ability to solve questions correctly? Give a pictorial representation of the same to validate your answer."
   ]
  },
  {
   "cell_type": "code",
   "execution_count": 15,
   "metadata": {},
   "outputs": [
    {
     "name": "stdout",
     "output_type": "stream",
     "text": [
      "Probability that Gaurav will solve 5 questions correctly = 0.2076416015625\n",
      "Probability that Barkha will solve 5 questions correctly = 0.22249823843265837\n"
     ]
    }
   ],
   "source": [
    "# Gaurav with 5 correct questions\n",
    "gaurav_N = 8\n",
    "gaurav_p = 0.75\n",
    "gaurav_comb_5 = f(gaurav_N) / (f(5) * f(gaurav_N - 5))\n",
    "gaurav_prob_5 = gaurav_comb_5 * (gaurav_p ** 5) * ((1 - gaurav_p) ** (gaurav_N - 5))\n",
    "print(\"Probability that Gaurav will solve 5 questions correctly =\", gaurav_prob_5)\n",
    "\n",
    "# Barkha with 5 correct questions\n",
    "barkha_N = 12\n",
    "barkha_p = 0.45\n",
    "barkha_comb_5 = f(barkha_N) / (f(5) * f(barkha_N - 5))\n",
    "barkha_prob_5 = barkha_comb_5 * (barkha_p ** 5) * ((1 - barkha_p) ** (barkha_N - 5))\n",
    "print(\"Probability that Barkha will solve 5 questions correctly =\", barkha_prob_5)"
   ]
  },
  {
   "cell_type": "code",
   "execution_count": 16,
   "metadata": {},
   "outputs": [
    {
     "name": "stdout",
     "output_type": "stream",
     "text": [
      "Probability that Gaurav will solve 4 questions correctly = 0.086517333984375\n"
     ]
    }
   ],
   "source": [
    "# Gaurav with 4 correct questions\n",
    "gaurav_comb_4 = f(gaurav_N) / (f(4) * f(gaurav_N - 4))\n",
    "gaurav_prob_4 = gaurav_comb_4 * (gaurav_p ** 4) * ((1 - gaurav_p) ** (gaurav_N - 4))\n",
    "print(\"Probability that Gaurav will solve 4 questions correctly =\", gaurav_prob_4)"
   ]
  },
  {
   "cell_type": "code",
   "execution_count": 17,
   "metadata": {},
   "outputs": [
    {
     "name": "stdout",
     "output_type": "stream",
     "text": [
      "Probability that Barkha will solve 6 questions correctly = 0.2123846821402648\n"
     ]
    }
   ],
   "source": [
    "# Barkha with 6 correct questions\n",
    "barkha_comb_6 = f(barkha_N) / (f(6) * f(barkha_N - 6))\n",
    "barkha_prob_6 = barkha_comb_6 * (barkha_p ** 6) * ((1 - barkha_p) ** (barkha_N - 6))\n",
    "print(\"Probability that Barkha will solve 6 questions correctly =\", barkha_prob_6)"
   ]
  },
  {
   "cell_type": "code",
   "execution_count": 18,
   "metadata": {},
   "outputs": [
    {
     "data": {
      "image/png": "[encoded data removed]",
      "text/plain": [
       "<Figure size 576x432 with 1 Axes>"
      ]
     },
     "metadata": {
      "needs_background": "light"
     },
     "output_type": "display_data"
    }
   ],
   "source": [
    "# Gaurav's Binomial Distribution\n",
    "gaurav_bin = stats.binom.rvs(n=gaurav_N, p=gaurav_p, loc=0, size=10000)\n",
    "plt.figure(figsize=[8,6])\n",
    "sns.distplot(gaurav_bin, bins=50, kde=True)\n",
    "plt.title(\"Gaurav's Binomial Distribution\", fontsize=18)\n",
    "plt.xlabel(\"Correct Questions\")\n",
    "plt.ylabel(\"Frequency\")\n",
    "plt.show()"
   ]
  },
  {
   "cell_type": "code",
   "execution_count": 19,
   "metadata": {},
   "outputs": [
    {
     "data": {
      "image/png": "[encoded data removed]",
      "text/plain": [
       "<Figure size 576x432 with 1 Axes>"
      ]
     },
     "metadata": {
      "needs_background": "light"
     },
     "output_type": "display_data"
    }
   ],
   "source": [
    "# Barkha's Binomial Distribution\n",
    "barkha_bin = stats.binom.rvs(n=barkha_N, p=barkha_p, loc=0, size=10000)\n",
    "plt.figure(figsize=[8,6])\n",
    "sns.distplot(barkha_bin, bins=50, kde=True)\n",
    "plt.title(\"Barkha's Binomial Distribution\", fontsize=18)\n",
    "plt.xlabel(\"Correct Questions\")\n",
    "plt.ylabel(\"Frequency\")\n",
    "plt.show()"
   ]
  },
  {
   "cell_type": "markdown",
   "metadata": {},
   "source": [
    "    The two main governing factors affecting their ability to solve questions correctly are average number of questions attempted in a day and average accuracy.\n",
    "    \n",
    "    In case of Gaurav, he attempts 8 questions with 75% accuracy. Therfore his distribution curve is highest at 6.\n",
    "    While in case of Barkha, she attempts 12 questions with an accuracy of 45% (which gives 5.4 correct questions) so it shows maximum at 5."
   ]
  },
  {
   "cell_type": "code",
   "execution_count": 20,
   "metadata": {},
   "outputs": [],
   "source": [
    "#"
   ]
  },
  {
   "cell_type": "code",
   "execution_count": 21,
   "metadata": {},
   "outputs": [],
   "source": [
    "#"
   ]
  },
  {
   "cell_type": "code",
   "execution_count": 22,
   "metadata": {},
   "outputs": [],
   "source": [
    "#"
   ]
  },
  {
   "cell_type": "markdown",
   "metadata": {},
   "source": [
    "# Problem Statement 7:\n",
    "\n",
    "Customers arrive at a rate of 72 per hour to my shop. What is the probability of 𝑘 customers arriving in 4 minutes? \n",
    "\n",
    "    a) 5 customers, \n",
    "    b) not more than 3 customers, \n",
    "    c) more than 3 customers. Give a pictorial representation of the same to validate your answer."
   ]
  },
  {
   "cell_type": "code",
   "execution_count": 23,
   "metadata": {},
   "outputs": [],
   "source": [
    "# Calculating mean for the given time frame\n",
    "mu = 72 * 4 / 60"
   ]
  },
  {
   "cell_type": "code",
   "execution_count": 24,
   "metadata": {},
   "outputs": [
    {
     "name": "stdout",
     "output_type": "stream",
     "text": [
      "The probability of 5 customers arriving in 4 minutes = 17.47 %\n"
     ]
    }
   ],
   "source": [
    "# a) Probability of 5 customers\n",
    "x1 = 5\n",
    "prob_5 = (np.e ** (-1 * mu)) * (mu ** x1) / f(x1)\n",
    "print(\"The probability of 5 customers arriving in 4 minutes =\", round(prob_5 * 100, 2), \"%\")"
   ]
  },
  {
   "cell_type": "code",
   "execution_count": 25,
   "metadata": {},
   "outputs": [
    {
     "data": {
      "text/plain": [
       "0.1698"
      ]
     },
     "execution_count": 25,
     "metadata": {},
     "output_type": "execute_result"
    }
   ],
   "source": [
    "sum(np.random.poisson(lam=mu, size=10000) == 5) / 10000"
   ]
  },
  {
   "cell_type": "code",
   "execution_count": 26,
   "metadata": {},
   "outputs": [
    {
     "name": "stdout",
     "output_type": "stream",
     "text": [
      "The probability of not more than 3 customers arriving in 4 minutes = 28.6 %\n"
     ]
    }
   ],
   "source": [
    "# b) Probability of not more than 3 customers\n",
    "x2 = 3\n",
    "prob_not_more_than_3 = 0\n",
    "for x in range(1, x2+1):\n",
    "    proba = (np.e ** (-1 * mu)) * (mu ** x) / f(x)\n",
    "    prob_not_more_than_3 += proba\n",
    "    \n",
    "print(\"The probability of not more than 3 customers arriving in 4 minutes =\", \n",
    "      round(prob_not_more_than_3 * 100, 2), \"%\")"
   ]
  },
  {
   "cell_type": "code",
   "execution_count": 27,
   "metadata": {},
   "outputs": [
    {
     "data": {
      "text/plain": [
       "0.3018"
      ]
     },
     "execution_count": 27,
     "metadata": {},
     "output_type": "execute_result"
    }
   ],
   "source": [
    "sum(np.random.poisson(lam=mu, size=10000) <= 3) / 10000"
   ]
  },
  {
   "cell_type": "code",
   "execution_count": 28,
   "metadata": {},
   "outputs": [
    {
     "name": "stdout",
     "output_type": "stream",
     "text": [
      "The probability of more than 3 customers arriving in 4 minutes = 71.4 %\n"
     ]
    }
   ],
   "source": [
    "# c) Probability of more than 3 customers\n",
    "prob_more_than_3 = 1 - prob_not_more_than_3\n",
    "\n",
    "print(\"The probability of more than 3 customers arriving in 4 minutes =\", round(prob_more_than_3 * 100, 2), \"%\")"
   ]
  },
  {
   "cell_type": "code",
   "execution_count": 29,
   "metadata": {},
   "outputs": [
    {
     "data": {
      "image/png": "[encoded data removed]",
      "text/plain": [
       "<Figure size 576x432 with 1 Axes>"
      ]
     },
     "metadata": {
      "needs_background": "light"
     },
     "output_type": "display_data"
    }
   ],
   "source": [
    "# plot\n",
    "dist_poission = stats.poisson.rvs(mu, loc=0, size=10000)\n",
    "plt.figure(figsize=[8,6])\n",
    "sns.distplot(dist_poission, bins=50, kde=True)\n",
    "plt.title(\"Customer Arrival - Poisson's Distribution\", fontsize=18)\n",
    "plt.xlabel(\"# Customers\")\n",
    "plt.ylabel(\"Frequency\")\n",
    "plt.show()"
   ]
  },
  {
   "cell_type": "markdown",
   "metadata": {},
   "source": [
    "    From the Poisson's Distribution we can verify our results visually."
   ]
  },
  {
   "cell_type": "code",
   "execution_count": 30,
   "metadata": {},
   "outputs": [],
   "source": [
    "#"
   ]
  },
  {
   "cell_type": "code",
   "execution_count": 31,
   "metadata": {},
   "outputs": [],
   "source": [
    "#"
   ]
  },
  {
   "cell_type": "code",
   "execution_count": 32,
   "metadata": {},
   "outputs": [],
   "source": [
    "#"
   ]
  },
  {
   "cell_type": "markdown",
   "metadata": {},
   "source": [
    "# Problem Statement 8:\n",
    "    I work as a data analyst in Aeon Learning Pvt. Ltd. \n",
    "    After analyzing data, I make reports, where I have the efficiency of entering 77 words per minute with 6 errors per hour. \n",
    "    What is the probability that I will commit 2 errors in a 455-word financial report? What happens when the no. of words increases/decreases (in case of 1000 words, 255 words)?\n",
    "    \n",
    "    How is the 𝜆 affected?\n",
    "    How does it influence the PMF?\n",
    "    Give a pictorial representation of the same to validate your answer."
   ]
  },
  {
   "cell_type": "code",
   "execution_count": 33,
   "metadata": {},
   "outputs": [],
   "source": [
    "error_rate = 6 / 60 / 77"
   ]
  },
  {
   "cell_type": "code",
   "execution_count": 34,
   "metadata": {},
   "outputs": [
    {
     "name": "stdout",
     "output_type": "stream",
     "text": [
      "The probability that person will commit 2 errors in a 455-word financial report = 9.61 %\n"
     ]
    }
   ],
   "source": [
    "# Length of Report = 455 words\n",
    "mu1 = error_rate * 455\n",
    "prob_2_err = sum(np.random.poisson(lam=mu1, size=10000) == 2) / 10000\n",
    "print(\"The probability that person will commit 2 errors in a 455-word financial report =\", \n",
    "      round(prob_2_err * 100, 2), \"%\")"
   ]
  },
  {
   "cell_type": "code",
   "execution_count": 35,
   "metadata": {},
   "outputs": [
    {
     "name": "stdout",
     "output_type": "stream",
     "text": [
      "The probability that person will commit 2 errors in a 1000-word financial report = 22.9 %\n"
     ]
    }
   ],
   "source": [
    "# Length of Report = 1000 words\n",
    "mu2 = error_rate * 1000\n",
    "prob_2_err_1000_words = sum(np.random.poisson(lam=mu2, size=10000) == 2) / 10000\n",
    "print(\"The probability that person will commit 2 errors in a 1000-word financial report =\", \n",
    "      round(prob_2_err_1000_words * 100, 2), \"%\")"
   ]
  },
  {
   "cell_type": "code",
   "execution_count": 36,
   "metadata": {},
   "outputs": [
    {
     "name": "stdout",
     "output_type": "stream",
     "text": [
      "The probability that person will commit 2 errors in a 255-word financial report = 4.03 %\n"
     ]
    }
   ],
   "source": [
    "# Length of Report = 255 words\n",
    "mu3 = error_rate * 255\n",
    "prob_2_err_255_words = sum(np.random.poisson(lam=mu3, size=10000) == 2) / 10000\n",
    "print(\"The probability that person will commit 2 errors in a 255-word financial report =\", \n",
    "      round(prob_2_err_255_words * 100, 2), \"%\")"
   ]
  },
  {
   "cell_type": "code",
   "execution_count": 37,
   "metadata": {},
   "outputs": [
    {
     "data": {
      "image/png": "[encoded data removed]",
      "text/plain": [
       "<Figure size 1296x720 with 1 Axes>"
      ]
     },
     "metadata": {
      "needs_background": "light"
     },
     "output_type": "display_data"
    }
   ],
   "source": [
    "# plot\n",
    "errors_poisson_455 = stats.poisson.rvs(mu1, loc=0, size=10000)\n",
    "errors_poisson_1000 = stats.poisson.rvs(mu2, loc=0, size=10000)\n",
    "errors_poisson_255 = stats.poisson.rvs(mu3, loc=0, size=10000)\n",
    "\n",
    "plt.figure(figsize=[18,10])\n",
    "\n",
    "sns.distplot(errors_poisson_455, bins=50, kde=True, hist=False, label='455 words')\n",
    "sns.distplot(errors_poisson_1000, bins=50, kde=True, hist=False, label='1000 words')\n",
    "sns.distplot(errors_poisson_255, bins=50, kde=True, hist=False, label='255 words')\n",
    "\n",
    "plt.title(\"Errors for different Report lengths\", fontsize=18)\n",
    "plt.xlabel(\"# Customers\")\n",
    "plt.ylabel(\"Frequency\")\n",
    "plt.show()"
   ]
  },
  {
   "cell_type": "markdown",
   "metadata": {},
   "source": [
    "     We can infer from the plot, as the number of words increases pmf becomes more distributed and probabilities for lower errors decresses. Whereas we decrease the number of words probability of lesser errors increases. "
   ]
  },
  {
   "cell_type": "code",
   "execution_count": 38,
   "metadata": {},
   "outputs": [],
   "source": [
    "#"
   ]
  },
  {
   "cell_type": "code",
   "execution_count": 39,
   "metadata": {},
   "outputs": [],
   "source": [
    "#"
   ]
  },
  {
   "cell_type": "code",
   "execution_count": 40,
   "metadata": {},
   "outputs": [],
   "source": [
    "#"
   ]
  },
  {
   "cell_type": "markdown",
   "metadata": {},
   "source": [
    "# Problem Statement 9:\n",
    "<b> Same as problem 4 </b>"
   ]
  },
  {
   "cell_type": "markdown",
   "metadata": {},
   "source": [
    "# Problem Statement 10:\n",
    "     Please compute the following:\n",
    "     a) P(Z > 1.26), . P(Z < −0.86), P(Z > −1.37), P(−1.25 < Z < 0.37), . P(Z ≤ −4.6)\n",
    "     b) Find the value 𝑧 such that 𝑃(𝑍 > 𝑧) = 0.05\n",
    "     c) Find the value of 𝑧 such that 𝑃(−𝑧 < 𝑍 < 𝑧) = 0.99"
   ]
  },
  {
   "cell_type": "markdown",
   "metadata": {},
   "source": [
    "## a)"
   ]
  },
  {
   "cell_type": "code",
   "execution_count": 41,
   "metadata": {},
   "outputs": [
    {
     "data": {
      "text/plain": [
       "0.1038"
      ]
     },
     "execution_count": 41,
     "metadata": {},
     "output_type": "execute_result"
    }
   ],
   "source": [
    "# P(Z > 1.26)\n",
    "round(1 - stats.norm.cdf(1.26), 4)"
   ]
  },
  {
   "cell_type": "code",
   "execution_count": 42,
   "metadata": {},
   "outputs": [
    {
     "data": {
      "text/plain": [
       "0.1949"
      ]
     },
     "execution_count": 42,
     "metadata": {},
     "output_type": "execute_result"
    }
   ],
   "source": [
    "# P(Z < −0.86)\n",
    "round(stats.norm.cdf(-0.86), 4)"
   ]
  },
  {
   "cell_type": "code",
   "execution_count": 43,
   "metadata": {},
   "outputs": [
    {
     "data": {
      "text/plain": [
       "0.9147"
      ]
     },
     "execution_count": 43,
     "metadata": {},
     "output_type": "execute_result"
    }
   ],
   "source": [
    "# P(Z > −1.37)\n",
    "round(1 - stats.norm.cdf(-1.37), 4)"
   ]
  },
  {
   "cell_type": "code",
   "execution_count": 44,
   "metadata": {},
   "outputs": [
    {
     "data": {
      "text/plain": [
       "0.5387"
      ]
     },
     "execution_count": 44,
     "metadata": {},
     "output_type": "execute_result"
    }
   ],
   "source": [
    "# P(−1.25 < Z < 0.37)\n",
    "round(stats.norm.cdf(0.37) - stats.norm.cdf(-1.25), 4)"
   ]
  },
  {
   "cell_type": "code",
   "execution_count": 45,
   "metadata": {},
   "outputs": [
    {
     "data": {
      "text/plain": [
       "2.1124547025028537e-06"
      ]
     },
     "execution_count": 45,
     "metadata": {},
     "output_type": "execute_result"
    }
   ],
   "source": [
    "# P(Z ≤ −4.6)\n",
    "stats.norm.cdf(-4.6)      # Z being continuous variable -> P(Z ≤ −4.6) = P(Z < −4.6)"
   ]
  },
  {
   "cell_type": "markdown",
   "metadata": {},
   "source": [
    "## b)"
   ]
  },
  {
   "cell_type": "code",
   "execution_count": 46,
   "metadata": {},
   "outputs": [
    {
     "data": {
      "text/plain": [
       "1.6449"
      ]
     },
     "execution_count": 46,
     "metadata": {},
     "output_type": "execute_result"
    }
   ],
   "source": [
    "# 𝑃(𝑍 > 𝑧) = 0.05\n",
    "round(0 - stats.norm.ppf(0.05), 4)"
   ]
  },
  {
   "cell_type": "markdown",
   "metadata": {},
   "source": [
    "## c)"
   ]
  },
  {
   "cell_type": "code",
   "execution_count": 47,
   "metadata": {},
   "outputs": [
    {
     "name": "stdout",
     "output_type": "stream",
     "text": [
      "z = 2.5758\n"
     ]
    }
   ],
   "source": [
    "# 𝑃(−𝑧 < 𝑍 < 𝑧) = 0.99\n",
    "ans = 0 - stats.norm.ppf((1 - 0.99) / 2)\n",
    "print('z =', round(ans,4))"
   ]
  },
  {
   "cell_type": "code",
   "execution_count": 48,
   "metadata": {},
   "outputs": [
    {
     "data": {
      "text/plain": [
       "0.99"
      ]
     },
     "execution_count": 48,
     "metadata": {},
     "output_type": "execute_result"
    }
   ],
   "source": [
    "# Verifying above answer\n",
    "round(stats.norm.cdf(ans) - stats.norm.cdf(-ans), 4)"
   ]
  },
  {
   "cell_type": "code",
   "execution_count": 49,
   "metadata": {},
   "outputs": [],
   "source": [
    "#"
   ]
  },
  {
   "cell_type": "code",
   "execution_count": 50,
   "metadata": {},
   "outputs": [],
   "source": [
    "#"
   ]
  },
  {
   "cell_type": "code",
   "execution_count": 51,
   "metadata": {},
   "outputs": [],
   "source": [
    "#"
   ]
  },
  {
   "cell_type": "markdown",
   "metadata": {},
   "source": [
    "# Problem Statement 11:\n",
    "     The current flow in a copper wire follow a normal distribution with a mean of 10 𝑚A and a variance of 4 (𝑚𝐴)2. \n",
    "     What is the probability that a current measurement will exceed 13 𝑚𝐴? \n",
    "     What is the probability that a current measurement is between 9 and 11mA? \n",
    "     Determine the current measurement which has a probability of 0.98."
   ]
  },
  {
   "cell_type": "code",
   "execution_count": 52,
   "metadata": {},
   "outputs": [],
   "source": [
    "mu = 10\n",
    "sigma = 4\n",
    "z_val = lambda x : (x - mu) / sigma"
   ]
  },
  {
   "cell_type": "code",
   "execution_count": 53,
   "metadata": {},
   "outputs": [
    {
     "data": {
      "text/plain": [
       "0.2266"
      ]
     },
     "execution_count": 53,
     "metadata": {},
     "output_type": "execute_result"
    }
   ],
   "source": [
    "# Prob I > 13mA\n",
    "z = z_val(13)\n",
    "p_gr_13 = 1 - stats.norm.cdf(z)\n",
    "round(p_gr_13, 4)"
   ]
  },
  {
   "cell_type": "code",
   "execution_count": 54,
   "metadata": {},
   "outputs": [
    {
     "data": {
      "text/plain": [
       "0.1974"
      ]
     },
     "execution_count": 54,
     "metadata": {},
     "output_type": "execute_result"
    }
   ],
   "source": [
    "# Prob 9mA > I > 11mA\n",
    "z_9 = z_val(9)\n",
    "z_11 = z_val(11)\n",
    "p_9_11 = stats.norm.cdf(z_11) - stats.norm.cdf(z_9)\n",
    "round(p_9_11, 4)"
   ]
  },
  {
   "cell_type": "code",
   "execution_count": 55,
   "metadata": {},
   "outputs": [
    {
     "name": "stdout",
     "output_type": "stream",
     "text": [
      "Current with probability of 0.98 = 18.21 mA\n"
     ]
    }
   ],
   "source": [
    "# I for P = 0.98\n",
    "z_p = stats.norm.ppf(0.98)\n",
    "i = (z_p * sigma) + mu\n",
    "print('Current with probability of 0.98 =', round(i, 2), 'mA')"
   ]
  },
  {
   "cell_type": "code",
   "execution_count": 56,
   "metadata": {},
   "outputs": [],
   "source": [
    "#"
   ]
  },
  {
   "cell_type": "code",
   "execution_count": 57,
   "metadata": {},
   "outputs": [],
   "source": [
    "#"
   ]
  },
  {
   "cell_type": "code",
   "execution_count": 58,
   "metadata": {},
   "outputs": [],
   "source": [
    "#"
   ]
  },
  {
   "cell_type": "markdown",
   "metadata": {},
   "source": [
    "# Problem Statement 12:\n",
    "    The shaft in a piston has its diameter normally distributed with a mean of 0.2508 inch and a standard deviation of 0.0005 inch. \n",
    "    The specifications of the shaft are 0.2500 ∓ 0.0015 inch. \n",
    "    What proportion of shafts are in sync with the specifications? \n",
    "    If the process is centered so that the mean is equal to the target value of 0.2500, what proportion of shafts conform to the new specifications? \n",
    "    What is your conclusion from this experiment?"
   ]
  },
  {
   "cell_type": "code",
   "execution_count": 59,
   "metadata": {},
   "outputs": [],
   "source": [
    "mu = 0.2508\n",
    "sigma = 0.0005\n",
    "z_val = lambda x : (x - mu) / sigma"
   ]
  },
  {
   "cell_type": "code",
   "execution_count": 60,
   "metadata": {},
   "outputs": [
    {
     "name": "stdout",
     "output_type": "stream",
     "text": [
      "Proprtion of shafts in given specifications = 0.9192\n"
     ]
    }
   ],
   "source": [
    "# Proprtion of shafts in given specifications\n",
    "min_specs = 0.2500 - 0.0015\n",
    "max_specs = 0.2500 + 0.0015\n",
    "\n",
    "z_min = z_val(min_specs)\n",
    "z_max = z_val(max_specs)\n",
    "\n",
    "prob = stats.norm.cdf(z_max) - stats.norm.cdf(z_min)\n",
    "print(\"Proprtion of shafts in given specifications =\", round(prob, 4))"
   ]
  },
  {
   "cell_type": "code",
   "execution_count": 61,
   "metadata": {},
   "outputs": [],
   "source": [
    "# Centred around specs\n",
    "mu1 = 0.2500\n",
    "sigma = 0.0005\n",
    "z_val1 = lambda x : (x - mu) / sigma"
   ]
  },
  {
   "cell_type": "code",
   "execution_count": 62,
   "metadata": {},
   "outputs": [
    {
     "name": "stdout",
     "output_type": "stream",
     "text": [
      "Proprtion of shafts in given specifications = 0.9192\n"
     ]
    }
   ],
   "source": [
    "# New Proprtion of shafts in given specifications centred around specs mean\n",
    "min_specs = 0.2500 - 0.0015\n",
    "max_specs = 0.2500 + 0.0015\n",
    "\n",
    "z_min = z_val1(min_specs)\n",
    "z_max = z_val1(max_specs)\n",
    "\n",
    "prob = stats.norm.cdf(z_max) - stats.norm.cdf(z_min)\n",
    "print(\"Proprtion of shafts in given specifications =\", round(prob, 4))"
   ]
  },
  {
   "cell_type": "markdown",
   "metadata": {},
   "source": [
    "### Conclusion - 99.73% of values lie inside 3 * sigma range when mean of distribution is mean of the specification"
   ]
  },
  {
   "cell_type": "code",
   "execution_count": 63,
   "metadata": {},
   "outputs": [],
   "source": [
    "#"
   ]
  },
  {
   "cell_type": "code",
   "execution_count": 64,
   "metadata": {},
   "outputs": [],
   "source": [
    "#"
   ]
  },
  {
   "cell_type": "code",
   "execution_count": 65,
   "metadata": {},
   "outputs": [],
   "source": [
    "#"
   ]
  }
 ],
 "metadata": {
  "kernelspec": {
   "display_name": "Python 3",
   "language": "python",
   "name": "python3"
  },
  "language_info": {
   "codemirror_mode": {
    "name": "ipython",
    "version": 3
   },
   "file_extension": ".py",
   "mimetype": "text/x-python",
   "name": "python",
   "nbconvert_exporter": "python",
   "pygments_lexer": "ipython3",
   "version": "3.7.7"
  }
 },
 "nbformat": 4,
 "nbformat_minor": 4
}
